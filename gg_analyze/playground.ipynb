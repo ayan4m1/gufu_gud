{
 "cells": [
  {
   "cell_type": "code",
   "execution_count": null,
   "metadata": {},
   "outputs": [],
   "source": [
    "import math\n",
    "\n",
    "import serial\n",
    "import msgpack\n",
    "import tqdm\n",
    "import pandas as pd\n",
    "import numpy as np\n",
    "import seaborn as sns\n",
    "import scipy.interpolate as interp\n",
    "import scipy.signal as signal\n",
    "import matplotlib.pyplot as plt\n",
    "\n",
    "# Enable \"widget\" mode for matplotlib\n",
    "%matplotlib widget"
   ]
  },
  {
   "cell_type": "code",
   "execution_count": null,
   "metadata": {},
   "outputs": [],
   "source": [
    "# Configure Serial port with 100 ms timeout\n",
    "ser = serial.Serial('COM3', timeout=0.1)\n",
    "\n",
    "# COnfigure msgpack unpacker for data stream decode\n",
    "unpacker = msgpack.Unpacker(raw=False)\n",
    "data_list = []\n",
    "\n",
    "###########################################################################################################\n",
    "# This loop will never end, interrupt the kernel in Jupyter lab when you have taken enough data to continue\n",
    "###########################################################################################################\n",
    "while True:\n",
    "    # Read some bytes in\n",
    "    buf = ser.read(256)\n",
    "    \n",
    "    if not buf:\n",
    "        # Try again later\n",
    "        continue\n",
    "        \n",
    "    # Feed data to deserialization\n",
    "    unpacker.feed(buf)\n",
    "    \n",
    "    try:\n",
    "        # Process new objects\n",
    "        for obj in unpacker:\n",
    "            if not isinstance(obj, dict):\n",
    "                # We only want dicts!\n",
    "                print(f'rejecting: {obj}\\t{chr(obj)}')\n",
    "                break\n",
    "            \n",
    "            # Save data\n",
    "            data_list.append(obj)\n",
    "    except (msgpack.ExtraData, msgpack.OutOfData, msgpack.FormatError, msgpack.StackError, UnicodeDecodeError) as ex:\n",
    "        # These should all be (maybe?) ok?\n",
    "        print(ex)\n",
    "        continue"
   ]
  },
  {
   "cell_type": "code",
   "execution_count": null,
   "metadata": {},
   "outputs": [],
   "source": [
    "len(data_list)"
   ]
  },
  {
   "cell_type": "code",
   "execution_count": null,
   "metadata": {},
   "outputs": [],
   "source": [
    "# Make dataframe\n",
    "df = pd.DataFrame(data_list)\n",
    "df['t'] -= df.t.iloc[0]  # Remove bias, create elapsed time"
   ]
  },
  {
   "cell_type": "code",
   "execution_count": null,
   "metadata": {},
   "outputs": [],
   "source": [
    "# Make sure the timing looks reasonable\n",
    "df['t'].diff().plot()\n",
    "fs = 1.0/(df[\"t\"].diff().mean())\n",
    "print(f'fs: {fs} hz')\n",
    "df['t'].diff().describe()\n",
    "\n",
    "# Calculate resistance and power from voltage and current\n",
    "df['r'] = df['v'] / df['i']\n",
    "df['p'] = df['v'] * df['i']"
   ]
  },
  {
   "cell_type": "code",
   "execution_count": null,
   "metadata": {},
   "outputs": [],
   "source": [
    "# Shift t=0 to the start of the puff (first time when power > half the max power in the data)\n",
    "df.t -= df[df.p.gt(df.p.max() / 2.0)].t.iloc[0]\n",
    "df['t_quant'] = df.t.round(1)  # Quantized time to 10 Hz"
   ]
  },
  {
   "cell_type": "code",
   "execution_count": null,
   "metadata": {},
   "outputs": [],
   "source": [
    "# Materials reference tables\n",
    "MATERIAL_REF = {\n",
    "    'tcr': {\n",
    "#         'ss316l': 879*10**-6  # delta_r/r per degree Celsius  # From Steam Engine calculator\n",
    "        'ss316l': 920*10**-6  # delta_r/r per degree Celsius\n",
    "    },\n",
    "    'tfr': {\n",
    "        # list(tuple()) with form [(t1, rr1), (t2, rr2), ...] with:\n",
    "        #     t = temperature in Celsius\n",
    "        #     rr = resistance ratio of measured_resistance / reference_resistance\n",
    "#         'ss316l': [  # From Steam Engine calculator\n",
    "#             (-40, 0.93474),\n",
    "#             ( 20, 1.00000),\n",
    "#             ( 50, 1.03000),\n",
    "#             (100, 1.08000),\n",
    "#             (150, 1.12600),\n",
    "#             (200, 1.16800),\n",
    "#             (250, 1.20700),\n",
    "#             (300, 1.24600)\n",
    "#         ]\n",
    "        'ss316l': [  # From Arctic Fox profile\n",
    "            ( 20, 1.0000),\n",
    "            (100, 1.0800),\n",
    "            (150, 1.1260),\n",
    "            (200, 1.1680),\n",
    "            (250, 1.2070),\n",
    "            (300, 1.2460),\n",
    "            (425, 1.3370)\n",
    "        ]\n",
    "    }\n",
    "}"
   ]
  },
  {
   "cell_type": "code",
   "execution_count": null,
   "metadata": {},
   "outputs": [],
   "source": [
    "def resratio_to_temp(t_cold=None, material='ss316l', method='tfr'):\n",
    "    \"\"\" Converts resistance ratio into temperature for a material with a known TCR or TFR.\n",
    "    \n",
    "    Args:\n",
    "        rr (float): The resistance ratio of current coil resistance / cold coil reference resistance, unitless.\n",
    "        t_cold (float): The cold coil reference temperature, in Celsius. Only used for TCR and is 20 C if None. Optional.\n",
    "        material (float, list, or str): Material TCR float in delta_r/r per degree Celsius,\n",
    "                                        material TFG list of tuples of temp in Celsius and resistance ratio,\n",
    "                                        or str of material for TCR and TFR to look up.\n",
    "        method (str): Method to use for conversion, must be one of ['tcr', 'tfr']. Optional.\n",
    "        \n",
    "    Returns:\n",
    "        Function object:\n",
    "            Args:\n",
    "                rr (array-like): Resistance ratio(s) to convert to a temperature\n",
    "            Returns:\n",
    "                np.ndarray to temperatures in Celsius\n",
    "    \"\"\"\n",
    "    if method not in ['tcr', 'tfr']:\n",
    "        raise NotImplementedError(f'Unimplemented method: {method}')\n",
    "\n",
    "    if (t_cold is not None) and (method != 'tcr'):\n",
    "        raise ValueError(f't_cold is only useable for tcr method')\n",
    "\n",
    "    if isinstance(material, str):\n",
    "        # Look up material properties from string\n",
    "        material = MATERIAL_REF[method][material]\n",
    "\n",
    "    if method == 'tcr':\n",
    "        # Temperature Coefficient of Resistance method\n",
    "        t_cold = 20.0 if t_cold is None else t_cold  # Default t_cold is 20 C\n",
    "        temp_func = lambda rr, t_cold=t_cold, material=material: np.asarray(t_cold + ((np.asarray(rr) - 1.0) / material))\n",
    "    elif method == 'tfr':\n",
    "        # Temperature Function of Resistance method, cubic spline interpolation\n",
    "        temp, rr = tuple(zip(*material))\n",
    "        temp_func = interp.CubicSpline(rr, temp, bc_type='natural')\n",
    "    else:\n",
    "        raise RuntimeError('The matrix is glitching again')\n",
    "\n",
    "    return temp_func"
   ]
  },
  {
   "cell_type": "code",
   "execution_count": null,
   "metadata": {},
   "outputs": [],
   "source": [
    "r_cold = 0.389#0.404125  # Cold coil resistance in Ohms, TODO: Automate this\n",
    "\n",
    "# Calculate temp of heating element, clip outout values to \"realistic\" temps\n",
    "t_func = resratio_to_temp(method='tfr')\n",
    "df['temp'] = t_func(df.r / r_cold)\n",
    "df['temp'] = df.temp.fillna(0.0).clip(0.0, 300.0)"
   ]
  },
  {
   "cell_type": "code",
   "execution_count": null,
   "metadata": {},
   "outputs": [],
   "source": [
    "df.plot(y='r', x='t', xlim=(0.0, 10.0), ylim=(0.0,2.0))"
   ]
  },
  {
   "cell_type": "code",
   "execution_count": null,
   "metadata": {},
   "outputs": [],
   "source": [
    "df.plot(y='i', x='t', xlim=(0.0, 10.0))"
   ]
  },
  {
   "cell_type": "code",
   "execution_count": null,
   "metadata": {},
   "outputs": [],
   "source": [
    "df.plot(y='p', x='t', xlim=(0.0, 10.0))"
   ]
  },
  {
   "cell_type": "code",
   "execution_count": null,
   "metadata": {},
   "outputs": [],
   "source": [
    "plt.figure(figsize=(32,18))\n",
    "pp = sns.lineplot(data=df, x='t', y='temp')\n",
    "pp.set(xlim=(0,10))\n",
    "# pp.set(ylim=(0.0, 50.0))"
   ]
  },
  {
   "cell_type": "code",
   "execution_count": null,
   "metadata": {},
   "outputs": [],
   "source": [
    "# plt.figure(figsize=(32,18))\n",
    "# pp = sns.regplot(data=df, x='t_quant', y='r', lowess=True)"
   ]
  },
  {
   "cell_type": "code",
   "execution_count": null,
   "metadata": {},
   "outputs": [],
   "source": [
    "pp = sns.relplot(data=df, x='t_quant', y='temp', kind='line', height=16)\n",
    "pp.set(xlabel='Puff Time (s)', ylabel='Temperature (C)', title=f'Temperature mean and CI for M22 Octo-coil on Pico 75W w/ AF 25W p=300 i=10')\n",
    "plt.grid(b=True)\n",
    "# pp.set(ylim=(0.4, 0.48))\n",
    "pp.set(xlim=(0,10))\n",
    "plt.show()"
   ]
  },
  {
   "cell_type": "code",
   "execution_count": null,
   "metadata": {},
   "outputs": [],
   "source": [
    "fs"
   ]
  },
  {
   "cell_type": "code",
   "execution_count": null,
   "metadata": {},
   "outputs": [],
   "source": [
    "desired_fs = 10.0\n",
    "decimation_ratio = math.floor(fs / desired_fs)\n",
    "\n",
    "actual_fs = fs / decimation_ratio\n",
    "\n",
    "print(f'Decimation ratio: {decimation_ratio}')\n",
    "print(f'Actual fs: {actual_fs} Hz')"
   ]
  },
  {
   "cell_type": "code",
   "execution_count": null,
   "metadata": {},
   "outputs": [],
   "source": [
    "decimated_df = df[df.t.between(-0.0, 9.9)]\n",
    "# decimated_df = df\n",
    "decimated_df = decimated_df.apply(lambda x: signal.decimate(x, decimation_ratio, ftype='fir'), axis='index')#, raw=True)\n",
    "decimated_df = decimated_df.drop('t_quant', axis='columns')\n",
    "decimated_df = decimated_df.assign(t=np.arange(len(decimated_df))/actual_fs)\n",
    "decimated_df"
   ]
  },
  {
   "cell_type": "code",
   "execution_count": null,
   "metadata": {},
   "outputs": [],
   "source": [
    "plt.figure(figsize=(32,18))\n",
    "pp = sns.lineplot(data=decimated_df, x='t', y='temp')#, kind='line', height=16)\n",
    "pp.set(xlabel='Time (s)', ylabel='Temperature (C)', title=f'Decimated Temperature, M22 coil, AF w/ PI.')\n",
    "plt.grid(b=True)\n",
    "# pp.set(ylim=(195, 205))\n",
    "# pp.set(xlim=(0.0, 10.0))\n",
    "plt.show()"
   ]
  },
  {
   "cell_type": "code",
   "execution_count": null,
   "metadata": {},
   "outputs": [],
   "source": []
  },
  {
   "cell_type": "code",
   "execution_count": null,
   "metadata": {},
   "outputs": [],
   "source": []
  },
  {
   "cell_type": "code",
   "execution_count": null,
   "metadata": {},
   "outputs": [],
   "source": []
  },
  {
   "cell_type": "code",
   "execution_count": null,
   "metadata": {},
   "outputs": [],
   "source": []
  },
  {
   "cell_type": "code",
   "execution_count": null,
   "metadata": {},
   "outputs": [],
   "source": [
    "# save df to a csv file\n",
    "df.to_csv('m22_gg.csv')"
   ]
  },
  {
   "cell_type": "code",
   "execution_count": null,
   "metadata": {},
   "outputs": [],
   "source": [
    "# read df from a csv file\n",
    "df = pd.read_csv('m22_gg.csv')"
   ]
  },
  {
   "cell_type": "code",
   "execution_count": null,
   "metadata": {},
   "outputs": [],
   "source": []
  },
  {
   "cell_type": "code",
   "execution_count": null,
   "metadata": {},
   "outputs": [],
   "source": []
  },
  {
   "cell_type": "code",
   "execution_count": null,
   "metadata": {},
   "outputs": [],
   "source": []
  },
  {
   "cell_type": "code",
   "execution_count": null,
   "metadata": {},
   "outputs": [],
   "source": []
  },
  {
   "cell_type": "code",
   "execution_count": null,
   "metadata": {},
   "outputs": [],
   "source": []
  },
  {
   "cell_type": "code",
   "execution_count": null,
   "metadata": {},
   "outputs": [],
   "source": []
  },
  {
   "cell_type": "code",
   "execution_count": null,
   "metadata": {},
   "outputs": [],
   "source": []
  },
  {
   "cell_type": "code",
   "execution_count": null,
   "metadata": {},
   "outputs": [],
   "source": []
  },
  {
   "cell_type": "code",
   "execution_count": null,
   "metadata": {},
   "outputs": [],
   "source": []
  },
  {
   "cell_type": "code",
   "execution_count": null,
   "metadata": {},
   "outputs": [],
   "source": []
  },
  {
   "cell_type": "code",
   "execution_count": null,
   "metadata": {},
   "outputs": [],
   "source": []
  },
  {
   "cell_type": "code",
   "execution_count": null,
   "metadata": {},
   "outputs": [],
   "source": [
    "# Comparing GG to AF data\n",
    "df_af = pd.read_csv('m22_af.csv')\n",
    "df_af.Time -= df_af[df_af.Power.gt(df_af.Power.max() / 2.0)].Time.iloc[0]\n",
    "df_af"
   ]
  },
  {
   "cell_type": "code",
   "execution_count": null,
   "metadata": {},
   "outputs": [],
   "source": [
    "df_af['temp_c'] = 5.0 / 9.0 *(df_af.Temperature - 32.0)\n",
    "\n",
    "plt.figure(figsize=(32,18))\n",
    "pp = sns.lineplot(data=decimated_df, x='t', y='temp')#, kind='line', height=16)\n",
    "sns.lineplot(data=df_af, x='Time', y='temp_c', ax=pp)#, kind='line', height=16)\n",
    "pp.set(xlabel='Time (s)', ylabel='Temperature (C)', title=f'AF temp and decimated GG temp, M22 Octo-coil.')\n",
    "plt.grid(b=True)\n",
    "# pp.set(ylim=(0.46, 0.48))\n",
    "pp.set(xlim=(0,10))\n",
    "plt.show()"
   ]
  },
  {
   "cell_type": "code",
   "execution_count": null,
   "metadata": {},
   "outputs": [],
   "source": []
  }
 ],
 "metadata": {
  "kernelspec": {
   "display_name": "Python (discord)",
   "language": "python",
   "name": "discord"
  },
  "language_info": {
   "codemirror_mode": {
    "name": "ipython",
    "version": 3
   },
   "file_extension": ".py",
   "mimetype": "text/x-python",
   "name": "python",
   "nbconvert_exporter": "python",
   "pygments_lexer": "ipython3",
   "version": "3.7.6-final"
  }
 },
 "nbformat": 4,
 "nbformat_minor": 4
}